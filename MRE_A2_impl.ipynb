{
 "cells": [
  {
   "cell_type": "markdown",
   "metadata": {},
   "source": [
    "### Copyright-protected material, all rights reserved. (c) University of Vienna.\n",
    "_Copyright Notice of the corresponding course at Moodle applies. <br> Only to be used in the MRE course._"
   ]
  },
  {
   "cell_type": "markdown",
   "metadata": {},
   "source": [
    "# MRE Assignment 2 - Digital Audio Processing \n",
    "\n",
    "In this assignment you will load, decode, and process digital audio files (e.g., MP3, WAV) using Python. For the following tasks, you will use our suggested libraries (see the setup section). For both audio formats you will extract and process content and some basic metadata. For the following tasks, you will use our suggested libraries (see the setup section). \n",
    "\n",
    "In this notebook, you will implement your solution. This notebook will be imported into the \"*_def.ipynb\" notebook.\n",
    "\n",
    "Of course you can include code for testing your implementation in this implementation notebook, but code for testing and output generated for testing is not going to be assessed.\n",
    "\n",
    "Of course, your code for the solutions in this notebook will be inspected and is subject to grading."
   ]
  },
  {
   "cell_type": "markdown",
   "metadata": {},
   "source": [
    "## Setup\n",
    "\n",
    "For general installation instructions, please refer to the ressources given for all the assignments in Moodle.\n",
    "\n",
    "If the cell below executes without error, you can start the assignment!"
   ]
  },
  {
   "cell_type": "code",
   "execution_count": 2,
   "metadata": {},
   "outputs": [],
   "source": [
    "# -------- Imports --------\n",
    "# Please do not change the contents of this cell!\n",
    "\n",
    "# Imports required by us.\n",
    "from enum import Enum\n",
    "import mutagen      # mutagen\n",
    "from mutagen.mp3 import MP3\n",
    "from mutagen.id3 import ID3\n",
    "from mutagen.easyid3 import EasyID3\n",
    "import wave         # python's built-in wave library\n",
    "import pandas as pd # pandas\n",
    "import ffmpeg       # ffmpeg-python wrapper (requires ffmpeg.exe in your system path!)\n",
    "import subprocess   # for calling local executables such as ffmpeg.exe\n"
   ]
  },
  {
   "cell_type": "markdown",
   "metadata": {},
   "source": [
    "In the cells below, place your own imports, global variables, (helper) functions and classes. Feel free to add cells here as you see fit."
   ]
  },
  {
   "cell_type": "code",
   "execution_count": 355,
   "metadata": {},
   "outputs": [],
   "source": [
    "# Please place your own imports here.\n",
    "import numpy as np\n",
    "import glob"
   ]
  },
  {
   "cell_type": "code",
   "execution_count": null,
   "metadata": {},
   "outputs": [],
   "source": [
    "# Place any helper functions, global variables and classes here."
   ]
  },
  {
   "cell_type": "markdown",
   "metadata": {},
   "source": [
    "## Task 2.1 Organize Audio files by specific criteria (35P):"
   ]
  },
  {
   "cell_type": "code",
   "execution_count": 376,
   "metadata": {},
   "outputs": [],
   "source": [
    "# Write your function here.\n",
    "\n",
    "# Auto-plays an audio file and also embeds an IPython audio display.\n",
    "def MyAudioFilesOrganizer(inputDir: str, grouping) -> pd.DataFrame:\n",
    "    columns = ['artist',\n",
    "                'album',\n",
    "                'genre',\n",
    "                'format',\n",
    "                'duration',\n",
    "                'title',\n",
    "                'date',\n",
    "                'sample rate',\n",
    "                'bitrate',\n",
    "                'track',\n",
    "                'composer',\n",
    "                'encoder', 'channels']\n",
    "  \n",
    "    directory = glob.glob(inputDir)\n",
    "    rows = []\n",
    "    df = pd.DataFrame()\n",
    "\n",
    "    for file in directory:\n",
    "        with open(file, 'rb') as fl:\n",
    "            audioFile = mutagen.File(fl, easy = True)\n",
    "            \n",
    "            if fl.name.endswith(\".mp3\") :\n",
    "                fileformat = 'mp3'\n",
    "                audioFile = mutagen.File(fl, easy = False)\n",
    "                mf = mutagen.mp3.MP3(audioFile)\n",
    "                print(mfmutagen.mp3.MPEGInfo(mf))\n",
    "            elif fl.name.endswith('.wav') :\n",
    "                fileformat = 'wav'\n",
    "            elif fl.name.endswith('.flac'):\n",
    "                fileformat = 'flac'\n",
    "\n",
    "            if(audioFile.tags is None):\n",
    "                waveFile = wave.open(fl.name, mode=None)\n",
    "                #rows = np.append(rows, fl.name)\n",
    "                bitrate = waveFile.getnframes()\n",
    "                channels = waveFile.getnchannels()\n",
    "                samplerate = waveFile.getframerate()\n",
    "                print(bitrate/float(samplerate))\n",
    "                print(bitrate)\n",
    "                #data = [artist, album, genre, fileformat, duration, title, date, samplerate, bitrate, track, composer, encoder, channels]\n",
    "                #df2 = pd.DataFrame(data = [data],columns = columns)\n",
    "                #df = df.append(df2 ,ignore_index = True) \n",
    "            else:\n",
    "                rows = np.append(rows, fl.name)\n",
    "                title = audioFile['title']\n",
    "                artist = audioFile['artist']\n",
    "                album = audioFile['album']\n",
    "                genre = audioFile['genre']\n",
    "                #fileformat = mutagen.File(fl, easy = False)\n",
    "                duration = audioFile['title']\n",
    "                date = audioFile['date']\n",
    "                samplerate = audioFile['title']\n",
    "                bitrate = audioFile['title']\n",
    "                track = audioFile['tracknumber']\n",
    "                composer = audioFile['composer']\n",
    "                encoder = audioFile['encodedby']\n",
    "                channels = 4\n",
    "                                                                    \n",
    "                data = [artist, album, genre, fileformat, duration, title, date, samplerate, bitrate, track, composer, encoder, channels]\n",
    "                df2 = pd.DataFrame(data = [data],columns = columns)\n",
    "                df = df.append(df2 ,ignore_index = True) \n",
    "            \n",
    "    \n",
    "    df.index = rows\n",
    "    \n",
    "    #df['artist'] = df['artist'].apply(tuple)\n",
    "    \n",
    "    \n",
    "    \n",
    "    #group = df.groupby('artist')\n",
    "        \n",
    "    #return group.last()\n",
    "    return df\n",
    "    "
   ]
  },
  {
   "cell_type": "code",
   "execution_count": 377,
   "metadata": {},
   "outputs": [
    {
     "ename": "ValueError",
     "evalue": "{'TIT2': TIT2(encoding=<Encoding.LATIN1: 0>, text=['Fire, Fire']), 'TPE1': TPE1(encoding=<Encoding.LATIN1: 0>, text=['M.I.A.']), 'TCOM': TCOM(encoding=<Encoding.LATIN1: 0>, text=['Maya Arulpragasam, Anthony Whiting']), 'TALB': TALB(encoding=<Encoding.LATIN1: 0>, text=['Arular']), 'TRCK': TRCK(encoding=<Encoding.LATIN1: 0>, text=['5/13']), 'TPOS': TPOS(encoding=<Encoding.LATIN1: 0>, text=['1/1']), 'TCON': TCON(encoding=<Encoding.LATIN1: 0>, text=['Hip Hop/Rap']), 'COMM:iTunPGAP:eng': COMM(encoding=<Encoding.LATIN1: 0>, lang='eng', desc='iTunPGAP', text=['0']), 'TENC': TENC(encoding=<Encoding.LATIN1: 0>, text=['iTunes v7.1']), 'COMM:iTunNORM:eng': COMM(encoding=<Encoding.LATIN1: 0>, lang='eng', desc='iTunNORM', text=[' 00000797 00000691 00006A5F 000074FA 0000D50F 0000F568 0000893B 0000891D 000072E5 000072E5']), 'COMM:iTunSMPB:eng': COMM(encoding=<Encoding.LATIN1: 0>, lang='eng', desc='iTunSMPB', text=[' 00000000 00000210 000008C4 00000000008C7A2C 00000000 003FA9F5 00000000 00000000 00000000 00000000 00000000 00000000']), 'COMM:iTunes_CDDB_IDs:eng': COMM(encoding=<Encoding.LATIN1: 0>, lang='eng', desc='iTunes_CDDB_IDs', text=['13+A07AE70133C627A194A9938FA342764F+5443699']), 'TDRC': TDRC(encoding=<Encoding.LATIN1: 0>, text=['2005'])} not a valid file object",
     "output_type": "error",
     "traceback": [
      "\u001b[0;31m---------------------------------------------------------------------------\u001b[0m",
      "\u001b[0;31mAttributeError\u001b[0m                            Traceback (most recent call last)",
      "\u001b[0;32m/opt/anaconda3/lib/python3.8/site-packages/mutagen/_util.py\u001b[0m in \u001b[0;36mverify_fileobj\u001b[0;34m(fileobj, writable)\u001b[0m\n\u001b[1;32m     85\u001b[0m     \u001b[0;32mtry\u001b[0m\u001b[0;34m:\u001b[0m\u001b[0;34m\u001b[0m\u001b[0;34m\u001b[0m\u001b[0m\n\u001b[0;32m---> 86\u001b[0;31m         \u001b[0mdata\u001b[0m \u001b[0;34m=\u001b[0m \u001b[0mfileobj\u001b[0m\u001b[0;34m.\u001b[0m\u001b[0mread\u001b[0m\u001b[0;34m(\u001b[0m\u001b[0;36m0\u001b[0m\u001b[0;34m)\u001b[0m\u001b[0;34m\u001b[0m\u001b[0;34m\u001b[0m\u001b[0m\n\u001b[0m\u001b[1;32m     87\u001b[0m     \u001b[0;32mexcept\u001b[0m \u001b[0mException\u001b[0m\u001b[0;34m:\u001b[0m\u001b[0;34m\u001b[0m\u001b[0;34m\u001b[0m\u001b[0m\n",
      "\u001b[0;31mAttributeError\u001b[0m: 'MP3' object has no attribute 'read'",
      "\nDuring handling of the above exception, another exception occurred:\n",
      "\u001b[0;31mValueError\u001b[0m                                Traceback (most recent call last)",
      "\u001b[0;32m<ipython-input-377-73bf7f1bcb83>\u001b[0m in \u001b[0;36m<module>\u001b[0;34m\u001b[0m\n\u001b[1;32m      4\u001b[0m     \u001b[0mALBUM\u001b[0m \u001b[0;34m=\u001b[0m \u001b[0;36m2\u001b[0m\u001b[0;34m,\u001b[0m\u001b[0;34m\u001b[0m\u001b[0;34m\u001b[0m\u001b[0m\n\u001b[1;32m      5\u001b[0m     \u001b[0mGENRE\u001b[0m \u001b[0;34m=\u001b[0m \u001b[0;36m3\u001b[0m\u001b[0;34m\u001b[0m\u001b[0;34m\u001b[0m\u001b[0m\n\u001b[0;32m----> 6\u001b[0;31m \u001b[0mMyAudioFilesOrganizer\u001b[0m\u001b[0;34m(\u001b[0m\u001b[0;34m\"./media/audio/*\"\u001b[0m\u001b[0;34m,\u001b[0m \u001b[0mCriteria\u001b[0m\u001b[0;34m.\u001b[0m\u001b[0mARTIST\u001b[0m\u001b[0;34m)\u001b[0m\u001b[0;34m\u001b[0m\u001b[0;34m\u001b[0m\u001b[0m\n\u001b[0m",
      "\u001b[0;32m<ipython-input-376-6694c8fb6070>\u001b[0m in \u001b[0;36mMyAudioFilesOrganizer\u001b[0;34m(inputDir, grouping)\u001b[0m\n\u001b[1;32m     27\u001b[0m                 \u001b[0mfileformat\u001b[0m \u001b[0;34m=\u001b[0m \u001b[0;34m'mp3'\u001b[0m\u001b[0;34m\u001b[0m\u001b[0;34m\u001b[0m\u001b[0m\n\u001b[1;32m     28\u001b[0m                 \u001b[0maudioFile\u001b[0m \u001b[0;34m=\u001b[0m \u001b[0mmutagen\u001b[0m\u001b[0;34m.\u001b[0m\u001b[0mFile\u001b[0m\u001b[0;34m(\u001b[0m\u001b[0mfl\u001b[0m\u001b[0;34m,\u001b[0m \u001b[0measy\u001b[0m \u001b[0;34m=\u001b[0m \u001b[0;32mFalse\u001b[0m\u001b[0;34m)\u001b[0m\u001b[0;34m\u001b[0m\u001b[0;34m\u001b[0m\u001b[0m\n\u001b[0;32m---> 29\u001b[0;31m                 \u001b[0mmf\u001b[0m \u001b[0;34m=\u001b[0m \u001b[0mmutagen\u001b[0m\u001b[0;34m.\u001b[0m\u001b[0mmp3\u001b[0m\u001b[0;34m.\u001b[0m\u001b[0mMP3\u001b[0m\u001b[0;34m(\u001b[0m\u001b[0maudioFile\u001b[0m\u001b[0;34m)\u001b[0m\u001b[0;34m\u001b[0m\u001b[0;34m\u001b[0m\u001b[0m\n\u001b[0m\u001b[1;32m     30\u001b[0m                 \u001b[0mprint\u001b[0m\u001b[0;34m(\u001b[0m\u001b[0mmfmutagen\u001b[0m\u001b[0;34m.\u001b[0m\u001b[0mmp3\u001b[0m\u001b[0;34m.\u001b[0m\u001b[0mMPEGInfo\u001b[0m\u001b[0;34m(\u001b[0m\u001b[0mmf\u001b[0m\u001b[0;34m)\u001b[0m\u001b[0;34m)\u001b[0m\u001b[0;34m\u001b[0m\u001b[0;34m\u001b[0m\u001b[0m\n\u001b[1;32m     31\u001b[0m             \u001b[0;32melif\u001b[0m \u001b[0mfl\u001b[0m\u001b[0;34m.\u001b[0m\u001b[0mname\u001b[0m\u001b[0;34m.\u001b[0m\u001b[0mendswith\u001b[0m\u001b[0;34m(\u001b[0m\u001b[0;34m'.wav'\u001b[0m\u001b[0;34m)\u001b[0m \u001b[0;34m:\u001b[0m\u001b[0;34m\u001b[0m\u001b[0;34m\u001b[0m\u001b[0m\n",
      "\u001b[0;32m/opt/anaconda3/lib/python3.8/site-packages/mutagen/_file.py\u001b[0m in \u001b[0;36m__init__\u001b[0;34m(self, *args, **kwargs)\u001b[0m\n\u001b[1;32m     46\u001b[0m                           DeprecationWarning)\n\u001b[1;32m     47\u001b[0m         \u001b[0;32melse\u001b[0m\u001b[0;34m:\u001b[0m\u001b[0;34m\u001b[0m\u001b[0;34m\u001b[0m\u001b[0m\n\u001b[0;32m---> 48\u001b[0;31m             \u001b[0mself\u001b[0m\u001b[0;34m.\u001b[0m\u001b[0mload\u001b[0m\u001b[0;34m(\u001b[0m\u001b[0;34m*\u001b[0m\u001b[0margs\u001b[0m\u001b[0;34m,\u001b[0m \u001b[0;34m**\u001b[0m\u001b[0mkwargs\u001b[0m\u001b[0;34m)\u001b[0m\u001b[0;34m\u001b[0m\u001b[0;34m\u001b[0m\u001b[0m\n\u001b[0m\u001b[1;32m     49\u001b[0m \u001b[0;34m\u001b[0m\u001b[0m\n\u001b[1;32m     50\u001b[0m     \u001b[0;34m@\u001b[0m\u001b[0mloadfile\u001b[0m\u001b[0;34m(\u001b[0m\u001b[0;34m)\u001b[0m\u001b[0;34m\u001b[0m\u001b[0;34m\u001b[0m\u001b[0m\n",
      "\u001b[0;32m/opt/anaconda3/lib/python3.8/site-packages/mutagen/_util.py\u001b[0m in \u001b[0;36mwrapper\u001b[0;34m(self, *args, **kwargs)\u001b[0m\n\u001b[1;32m    152\u001b[0m             \u001b[0mfilething\u001b[0m\u001b[0;34m,\u001b[0m \u001b[0mfilename\u001b[0m\u001b[0;34m,\u001b[0m \u001b[0mfileobj\u001b[0m\u001b[0;34m,\u001b[0m \u001b[0margs\u001b[0m\u001b[0;34m,\u001b[0m \u001b[0mkwargs\u001b[0m \u001b[0;34m=\u001b[0m\u001b[0;31m \u001b[0m\u001b[0;31m\\\u001b[0m\u001b[0;34m\u001b[0m\u001b[0;34m\u001b[0m\u001b[0m\n\u001b[1;32m    153\u001b[0m                 \u001b[0mconvert_file_args\u001b[0m\u001b[0;34m(\u001b[0m\u001b[0margs\u001b[0m\u001b[0;34m,\u001b[0m \u001b[0mkwargs\u001b[0m\u001b[0;34m)\u001b[0m\u001b[0;34m\u001b[0m\u001b[0;34m\u001b[0m\u001b[0m\n\u001b[0;32m--> 154\u001b[0;31m             with _openfile(self, filething, filename, fileobj,\n\u001b[0m\u001b[1;32m    155\u001b[0m                            writable, create) as h:\n\u001b[1;32m    156\u001b[0m                 \u001b[0;32mreturn\u001b[0m \u001b[0mfunc\u001b[0m\u001b[0;34m(\u001b[0m\u001b[0mself\u001b[0m\u001b[0;34m,\u001b[0m \u001b[0mh\u001b[0m\u001b[0;34m,\u001b[0m \u001b[0;34m*\u001b[0m\u001b[0margs\u001b[0m\u001b[0;34m,\u001b[0m \u001b[0;34m**\u001b[0m\u001b[0mkwargs\u001b[0m\u001b[0;34m)\u001b[0m\u001b[0;34m\u001b[0m\u001b[0;34m\u001b[0m\u001b[0m\n",
      "\u001b[0;32m/opt/anaconda3/lib/python3.8/contextlib.py\u001b[0m in \u001b[0;36m__enter__\u001b[0;34m(self)\u001b[0m\n\u001b[1;32m    111\u001b[0m         \u001b[0;32mdel\u001b[0m \u001b[0mself\u001b[0m\u001b[0;34m.\u001b[0m\u001b[0margs\u001b[0m\u001b[0;34m,\u001b[0m \u001b[0mself\u001b[0m\u001b[0;34m.\u001b[0m\u001b[0mkwds\u001b[0m\u001b[0;34m,\u001b[0m \u001b[0mself\u001b[0m\u001b[0;34m.\u001b[0m\u001b[0mfunc\u001b[0m\u001b[0;34m\u001b[0m\u001b[0;34m\u001b[0m\u001b[0m\n\u001b[1;32m    112\u001b[0m         \u001b[0;32mtry\u001b[0m\u001b[0;34m:\u001b[0m\u001b[0;34m\u001b[0m\u001b[0;34m\u001b[0m\u001b[0m\n\u001b[0;32m--> 113\u001b[0;31m             \u001b[0;32mreturn\u001b[0m \u001b[0mnext\u001b[0m\u001b[0;34m(\u001b[0m\u001b[0mself\u001b[0m\u001b[0;34m.\u001b[0m\u001b[0mgen\u001b[0m\u001b[0;34m)\u001b[0m\u001b[0;34m\u001b[0m\u001b[0;34m\u001b[0m\u001b[0m\n\u001b[0m\u001b[1;32m    114\u001b[0m         \u001b[0;32mexcept\u001b[0m \u001b[0mStopIteration\u001b[0m\u001b[0;34m:\u001b[0m\u001b[0;34m\u001b[0m\u001b[0;34m\u001b[0m\u001b[0m\n\u001b[1;32m    115\u001b[0m             \u001b[0;32mraise\u001b[0m \u001b[0mRuntimeError\u001b[0m\u001b[0;34m(\u001b[0m\u001b[0;34m\"generator didn't yield\"\u001b[0m\u001b[0;34m)\u001b[0m \u001b[0;32mfrom\u001b[0m \u001b[0;32mNone\u001b[0m\u001b[0;34m\u001b[0m\u001b[0;34m\u001b[0m\u001b[0m\n",
      "\u001b[0;32m/opt/anaconda3/lib/python3.8/site-packages/mutagen/_util.py\u001b[0m in \u001b[0;36m_openfile\u001b[0;34m(instance, filething, filename, fileobj, writable, create)\u001b[0m\n\u001b[1;32m    242\u001b[0m \u001b[0;34m\u001b[0m\u001b[0m\n\u001b[1;32m    243\u001b[0m     \u001b[0;32mif\u001b[0m \u001b[0mfileobj\u001b[0m \u001b[0;32mis\u001b[0m \u001b[0;32mnot\u001b[0m \u001b[0;32mNone\u001b[0m\u001b[0;34m:\u001b[0m\u001b[0;34m\u001b[0m\u001b[0;34m\u001b[0m\u001b[0m\n\u001b[0;32m--> 244\u001b[0;31m         \u001b[0mverify_fileobj\u001b[0m\u001b[0;34m(\u001b[0m\u001b[0mfileobj\u001b[0m\u001b[0;34m,\u001b[0m \u001b[0mwritable\u001b[0m\u001b[0;34m=\u001b[0m\u001b[0mwritable\u001b[0m\u001b[0;34m)\u001b[0m\u001b[0;34m\u001b[0m\u001b[0;34m\u001b[0m\u001b[0m\n\u001b[0m\u001b[1;32m    245\u001b[0m         \u001b[0;32myield\u001b[0m \u001b[0mFileThing\u001b[0m\u001b[0;34m(\u001b[0m\u001b[0mfileobj\u001b[0m\u001b[0;34m,\u001b[0m \u001b[0mfilename\u001b[0m\u001b[0;34m,\u001b[0m \u001b[0mfilename\u001b[0m \u001b[0;32mor\u001b[0m \u001b[0mfileobj_name\u001b[0m\u001b[0;34m(\u001b[0m\u001b[0mfileobj\u001b[0m\u001b[0;34m)\u001b[0m\u001b[0;34m)\u001b[0m\u001b[0;34m\u001b[0m\u001b[0;34m\u001b[0m\u001b[0m\n\u001b[1;32m    246\u001b[0m     \u001b[0;32melif\u001b[0m \u001b[0mfilename\u001b[0m \u001b[0;32mis\u001b[0m \u001b[0;32mnot\u001b[0m \u001b[0;32mNone\u001b[0m\u001b[0;34m:\u001b[0m\u001b[0;34m\u001b[0m\u001b[0;34m\u001b[0m\u001b[0m\n",
      "\u001b[0;32m/opt/anaconda3/lib/python3.8/site-packages/mutagen/_util.py\u001b[0m in \u001b[0;36mverify_fileobj\u001b[0;34m(fileobj, writable)\u001b[0m\n\u001b[1;32m     87\u001b[0m     \u001b[0;32mexcept\u001b[0m \u001b[0mException\u001b[0m\u001b[0;34m:\u001b[0m\u001b[0;34m\u001b[0m\u001b[0;34m\u001b[0m\u001b[0m\n\u001b[1;32m     88\u001b[0m         \u001b[0;32mif\u001b[0m \u001b[0;32mnot\u001b[0m \u001b[0mhasattr\u001b[0m\u001b[0;34m(\u001b[0m\u001b[0mfileobj\u001b[0m\u001b[0;34m,\u001b[0m \u001b[0;34m\"read\"\u001b[0m\u001b[0;34m)\u001b[0m\u001b[0;34m:\u001b[0m\u001b[0;34m\u001b[0m\u001b[0;34m\u001b[0m\u001b[0m\n\u001b[0;32m---> 89\u001b[0;31m             \u001b[0;32mraise\u001b[0m \u001b[0mValueError\u001b[0m\u001b[0;34m(\u001b[0m\u001b[0;34m\"%r not a valid file object\"\u001b[0m \u001b[0;34m%\u001b[0m \u001b[0mfileobj\u001b[0m\u001b[0;34m)\u001b[0m\u001b[0;34m\u001b[0m\u001b[0;34m\u001b[0m\u001b[0m\n\u001b[0m\u001b[1;32m     90\u001b[0m         \u001b[0;32mraise\u001b[0m \u001b[0mValueError\u001b[0m\u001b[0;34m(\u001b[0m\u001b[0;34m\"Can't read from file object %r\"\u001b[0m \u001b[0;34m%\u001b[0m \u001b[0mfileobj\u001b[0m\u001b[0;34m)\u001b[0m\u001b[0;34m\u001b[0m\u001b[0;34m\u001b[0m\u001b[0m\n\u001b[1;32m     91\u001b[0m \u001b[0;34m\u001b[0m\u001b[0m\n",
      "\u001b[0;31mValueError\u001b[0m: {'TIT2': TIT2(encoding=<Encoding.LATIN1: 0>, text=['Fire, Fire']), 'TPE1': TPE1(encoding=<Encoding.LATIN1: 0>, text=['M.I.A.']), 'TCOM': TCOM(encoding=<Encoding.LATIN1: 0>, text=['Maya Arulpragasam, Anthony Whiting']), 'TALB': TALB(encoding=<Encoding.LATIN1: 0>, text=['Arular']), 'TRCK': TRCK(encoding=<Encoding.LATIN1: 0>, text=['5/13']), 'TPOS': TPOS(encoding=<Encoding.LATIN1: 0>, text=['1/1']), 'TCON': TCON(encoding=<Encoding.LATIN1: 0>, text=['Hip Hop/Rap']), 'COMM:iTunPGAP:eng': COMM(encoding=<Encoding.LATIN1: 0>, lang='eng', desc='iTunPGAP', text=['0']), 'TENC': TENC(encoding=<Encoding.LATIN1: 0>, text=['iTunes v7.1']), 'COMM:iTunNORM:eng': COMM(encoding=<Encoding.LATIN1: 0>, lang='eng', desc='iTunNORM', text=[' 00000797 00000691 00006A5F 000074FA 0000D50F 0000F568 0000893B 0000891D 000072E5 000072E5']), 'COMM:iTunSMPB:eng': COMM(encoding=<Encoding.LATIN1: 0>, lang='eng', desc='iTunSMPB', text=[' 00000000 00000210 000008C4 00000000008C7A2C 00000000 003FA9F5 00000000 00000000 00000000 00000000 00000000 00000000']), 'COMM:iTunes_CDDB_IDs:eng': COMM(encoding=<Encoding.LATIN1: 0>, lang='eng', desc='iTunes_CDDB_IDs', text=['13+A07AE70133C627A194A9938FA342764F+5443699']), 'TDRC': TDRC(encoding=<Encoding.LATIN1: 0>, text=['2005'])} not a valid file object"
     ]
    }
   ],
   "source": [
    "# Test your function here.\n",
    "class Criteria(Enum):\n",
    "    ARTIST = 1,\n",
    "    ALBUM = 2,\n",
    "    GENRE = 3\n",
    "MyAudioFilesOrganizer(\"./media/audio/*\", Criteria.ARTIST)\n"
   ]
  },
  {
   "cell_type": "markdown",
   "metadata": {},
   "source": [
    "## Task 2.2 Audio mixer (25P):"
   ]
  },
  {
   "cell_type": "code",
   "execution_count": 320,
   "metadata": {},
   "outputs": [],
   "source": [
    "# Write your function here.\n",
    "\n",
    "# Cuts an audio file by delegating the cutting to FFMPEG.\n",
    "def TwoAudioMixer(audioFile1: str, a1From: int, a1To: int, \n",
    "                  audioFile2: str, a2From: int, a2To: int, overlapDur: float, \n",
    "                  outputDir: str, outFilename: str) -> None:\n",
    "    pass"
   ]
  },
  {
   "cell_type": "code",
   "execution_count": null,
   "metadata": {},
   "outputs": [],
   "source": [
    "# Test your function here."
   ]
  },
  {
   "cell_type": "markdown",
   "metadata": {},
   "source": [
    "## Task 2.3 Concealing speakers ID by lowering/increasing the audio pitch (20P):"
   ]
  },
  {
   "cell_type": "code",
   "execution_count": null,
   "metadata": {},
   "outputs": [],
   "source": [
    "# Write your function here.\n",
    "\n",
    "# Generates a pandas DataFrame of audio metadata.\n",
    "def VoicePitchChanger(audioFile: str, shift: float, outputDir: str, outFilename: str) -> None:\n",
    "    pass"
   ]
  },
  {
   "cell_type": "code",
   "execution_count": null,
   "metadata": {},
   "outputs": [],
   "source": [
    "# Test your function here."
   ]
  },
  {
   "cell_type": "code",
   "execution_count": null,
   "metadata": {},
   "outputs": [],
   "source": []
  }
 ],
 "metadata": {
  "kernelspec": {
   "display_name": "Python 3",
   "language": "python",
   "name": "python3"
  },
  "language_info": {
   "codemirror_mode": {
    "name": "ipython",
    "version": 3
   },
   "file_extension": ".py",
   "mimetype": "text/x-python",
   "name": "python",
   "nbconvert_exporter": "python",
   "pygments_lexer": "ipython3",
   "version": "3.8.8"
  }
 },
 "nbformat": 4,
 "nbformat_minor": 4
}
