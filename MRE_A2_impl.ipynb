{
 "cells": [
  {
   "cell_type": "markdown",
   "metadata": {},
   "source": [
    "### Copyright-protected material, all rights reserved. (c) University of Vienna.\n",
    "_Copyright Notice of the corresponding course at Moodle applies. <br> Only to be used in the MRE course._"
   ]
  },
  {
   "cell_type": "markdown",
   "metadata": {},
   "source": [
    "# MRE Assignment 2 - Digital Audio Processing \n",
    "\n",
    "In this assignment you will load, decode, and process digital audio files (e.g., MP3, WAV) using Python. For the following tasks, you will use our suggested libraries (see the setup section). For both audio formats you will extract and process content and some basic metadata. For the following tasks, you will use our suggested libraries (see the setup section). \n",
    "\n",
    "In this notebook, you will implement your solution. This notebook will be imported into the \"*_def.ipynb\" notebook.\n",
    "\n",
    "Of course you can include code for testing your implementation in this implementation notebook, but code for testing and output generated for testing is not going to be assessed.\n",
    "\n",
    "Of course, your code for the solutions in this notebook will be inspected and is subject to grading."
   ]
  },
  {
   "cell_type": "markdown",
   "metadata": {},
   "source": [
    "## Setup\n",
    "\n",
    "For general installation instructions, please refer to the ressources given for all the assignments in Moodle.\n",
    "\n",
    "If the cell below executes without error, you can start the assignment!"
   ]
  },
  {
   "cell_type": "code",
   "execution_count": 2,
   "metadata": {},
   "outputs": [],
   "source": [
    "# -------- Imports --------\n",
    "# Please do not change the contents of this cell!\n",
    "\n",
    "# Imports required by us.\n",
    "from enum import Enum\n",
    "import mutagen      # mutagen\n",
    "from mutagen.mp3 import MP3\n",
    "from mutagen.id3 import ID3\n",
    "from mutagen.easyid3 import EasyID3\n",
    "import wave         # python's built-in wave library\n",
    "import pandas as pd # pandas\n",
    "import ffmpeg       # ffmpeg-python wrapper (requires ffmpeg.exe in your system path!)\n",
    "import subprocess   # for calling local executables such as ffmpeg.exe\n"
   ]
  },
  {
   "cell_type": "markdown",
   "metadata": {},
   "source": [
    "In the cells below, place your own imports, global variables, (helper) functions and classes. Feel free to add cells here as you see fit."
   ]
  },
  {
   "cell_type": "code",
   "execution_count": 126,
   "metadata": {},
   "outputs": [],
   "source": [
    "# Please place your own imports here.\n",
    "import numpy as np\n",
    "import glob\n",
    "import pprint"
   ]
  },
  {
   "cell_type": "code",
   "execution_count": null,
   "metadata": {},
   "outputs": [],
   "source": [
    "# Place any helper functions, global variables and classes here."
   ]
  },
  {
   "cell_type": "markdown",
   "metadata": {},
   "source": [
    "## Task 2.1 Organize Audio files by specific criteria (35P):"
   ]
  },
  {
   "cell_type": "code",
   "execution_count": 351,
   "metadata": {},
   "outputs": [],
   "source": [
    "# Write your function here.\n",
    "\n",
    "# Auto-plays an audio file and also embeds an IPython audio display.\n",
    "def MyAudioFilesOrganizer(inputDir: str, grouping) -> pd.DataFrame:\n",
    "    columns = ['artist',\n",
    "                'album',\n",
    "                'genre',\n",
    "                'format',\n",
    "                'duration',\n",
    "                'title',\n",
    "                'date',\n",
    "                'sample rate',\n",
    "                'bitrate',\n",
    "                'track',\n",
    "                'composer',\n",
    "                'encoder', 'channels']\n",
    "  \n",
    "    directory = glob.glob(inputDir)\n",
    "    rows = []\n",
    "    df = pd.DataFrame()\n",
    "\n",
    "    for file in directory:\n",
    "        with open(file, 'rb') as fl:\n",
    "            audioFile = mutagen.File(fl, easy = True)\n",
    "\n",
    "            if(audioFile.tags is None):\n",
    "                waveFile = wave.open(fl.name, mode=None)\n",
    "                #rows = np.append(rows, fl.name)\n",
    "                bitrate = waveFile.getnframes()\n",
    "                channels = waveFile.getnchannels()\n",
    "                samplerate = waveFile.getframerate()\n",
    "                print(bitrate/float(samplerate))\n",
    "                print(bitrate)\n",
    "                #data = [artist, album, genre, fileformat, duration, title, date, samplerate, bitrate, track, composer, encoder, channels]\n",
    "                #df2 = pd.DataFrame(data = [data],columns = columns)\n",
    "                #df = df.append(df2 ,ignore_index = True) \n",
    "            else:\n",
    "                rows = np.append(rows, fl.name)\n",
    "                title = audioFile['title']\n",
    "                artist = audioFile['artist']\n",
    "                album = audioFile['album']\n",
    "                genre = audioFile['genre']\n",
    "                fileformat = audioFile['title']\n",
    "                duration = audioFile['title']\n",
    "                date = audioFile['date']\n",
    "                samplerate = audioFile['title']\n",
    "                bitrate = audioFile['title']\n",
    "                track = audioFile['tracknumber']\n",
    "                composer = audioFile['composer']\n",
    "                encoder = audioFile['encodedby']\n",
    "                channels = 4\n",
    "                                                                    \n",
    "                data = [artist, album, genre, fileformat, duration, title, date, samplerate, bitrate, track, composer, encoder, channels]\n",
    "                df2 = pd.DataFrame(data = [data],columns = columns)\n",
    "                df = df.append(df2 ,ignore_index = True) \n",
    "            \n",
    "    \n",
    "    df.index = rows\n",
    "    \n",
    "    #df['artist'] = df['artist'].apply(tuple)\n",
    "    \n",
    "    \n",
    "    \n",
    "    #group = df.groupby('artist')\n",
    "        \n",
    "    #return group.last()\n",
    "    return df\n",
    "    "
   ]
  },
  {
   "cell_type": "code",
   "execution_count": 352,
   "metadata": {},
   "outputs": [
    {
     "name": "stdout",
     "output_type": "stream",
     "text": [
      "3.2653061224489797\n",
      "144000\n"
     ]
    },
    {
     "data": {
      "text/html": [
       "<div>\n",
       "<style scoped>\n",
       "    .dataframe tbody tr th:only-of-type {\n",
       "        vertical-align: middle;\n",
       "    }\n",
       "\n",
       "    .dataframe tbody tr th {\n",
       "        vertical-align: top;\n",
       "    }\n",
       "\n",
       "    .dataframe thead th {\n",
       "        text-align: right;\n",
       "    }\n",
       "</style>\n",
       "<table border=\"1\" class=\"dataframe\">\n",
       "  <thead>\n",
       "    <tr style=\"text-align: right;\">\n",
       "      <th></th>\n",
       "      <th>artist</th>\n",
       "      <th>album</th>\n",
       "      <th>genre</th>\n",
       "      <th>format</th>\n",
       "      <th>duration</th>\n",
       "      <th>title</th>\n",
       "      <th>date</th>\n",
       "      <th>sample rate</th>\n",
       "      <th>bitrate</th>\n",
       "      <th>track</th>\n",
       "      <th>composer</th>\n",
       "      <th>encoder</th>\n",
       "      <th>channels</th>\n",
       "    </tr>\n",
       "  </thead>\n",
       "  <tbody>\n",
       "    <tr>\n",
       "      <th>./media/audio/FireFire.mp3</th>\n",
       "      <td>[M.I.A.]</td>\n",
       "      <td>[Arular]</td>\n",
       "      <td>[Hip Hop/Rap]</td>\n",
       "      <td>[Fire, Fire]</td>\n",
       "      <td>[Fire, Fire]</td>\n",
       "      <td>[Fire, Fire]</td>\n",
       "      <td>[2005]</td>\n",
       "      <td>[Fire, Fire]</td>\n",
       "      <td>[Fire, Fire]</td>\n",
       "      <td>[5/13]</td>\n",
       "      <td>[Maya Arulpragasam, Anthony Whiting]</td>\n",
       "      <td>[iTunes v7.1]</td>\n",
       "      <td>4</td>\n",
       "    </tr>\n",
       "    <tr>\n",
       "      <th>./media/audio/Amazon.mp3</th>\n",
       "      <td>[M.I.A.]</td>\n",
       "      <td>[Arular]</td>\n",
       "      <td>[Hip Hop/Rap]</td>\n",
       "      <td>[Amazon]</td>\n",
       "      <td>[Amazon]</td>\n",
       "      <td>[Amazon]</td>\n",
       "      <td>[2005]</td>\n",
       "      <td>[Amazon]</td>\n",
       "      <td>[Amazon]</td>\n",
       "      <td>[7/13]</td>\n",
       "      <td>[Maya Arulpragasam, Richard X.]</td>\n",
       "      <td>[iTunes v7.1]</td>\n",
       "      <td>4</td>\n",
       "    </tr>\n",
       "    <tr>\n",
       "      <th>./media/audio/DashTheCurry[Skit].mp3</th>\n",
       "      <td>[M.I.A.]</td>\n",
       "      <td>[Arular]</td>\n",
       "      <td>[Hip Hop/Rap]</td>\n",
       "      <td>[Dash The Curry [Skit]]</td>\n",
       "      <td>[Dash The Curry [Skit]]</td>\n",
       "      <td>[Dash The Curry [Skit]]</td>\n",
       "      <td>[2005]</td>\n",
       "      <td>[Dash The Curry [Skit]]</td>\n",
       "      <td>[Dash The Curry [Skit]]</td>\n",
       "      <td>[6/13]</td>\n",
       "      <td>[Maya Arulpragasam]</td>\n",
       "      <td>[iTunes v7.1]</td>\n",
       "      <td>4</td>\n",
       "    </tr>\n",
       "    <tr>\n",
       "      <th>./media/audio/Hombre.mp3</th>\n",
       "      <td>[M.I.A.]</td>\n",
       "      <td>[Arular]</td>\n",
       "      <td>[Hip Hop/Rap]</td>\n",
       "      <td>[Hombre]</td>\n",
       "      <td>[Hombre]</td>\n",
       "      <td>[Hombre]</td>\n",
       "      <td>[2005]</td>\n",
       "      <td>[Hombre]</td>\n",
       "      <td>[Hombre]</td>\n",
       "      <td>[9/13]</td>\n",
       "      <td>[Maya Arulpragasam, Anthony Whiting]</td>\n",
       "      <td>[iTunes v7.1]</td>\n",
       "      <td>4</td>\n",
       "    </tr>\n",
       "  </tbody>\n",
       "</table>\n",
       "</div>"
      ],
      "text/plain": [
       "                                        artist     album          genre  \\\n",
       "./media/audio/FireFire.mp3            [M.I.A.]  [Arular]  [Hip Hop/Rap]   \n",
       "./media/audio/Amazon.mp3              [M.I.A.]  [Arular]  [Hip Hop/Rap]   \n",
       "./media/audio/DashTheCurry[Skit].mp3  [M.I.A.]  [Arular]  [Hip Hop/Rap]   \n",
       "./media/audio/Hombre.mp3              [M.I.A.]  [Arular]  [Hip Hop/Rap]   \n",
       "\n",
       "                                                       format  \\\n",
       "./media/audio/FireFire.mp3                       [Fire, Fire]   \n",
       "./media/audio/Amazon.mp3                             [Amazon]   \n",
       "./media/audio/DashTheCurry[Skit].mp3  [Dash The Curry [Skit]]   \n",
       "./media/audio/Hombre.mp3                             [Hombre]   \n",
       "\n",
       "                                                     duration  \\\n",
       "./media/audio/FireFire.mp3                       [Fire, Fire]   \n",
       "./media/audio/Amazon.mp3                             [Amazon]   \n",
       "./media/audio/DashTheCurry[Skit].mp3  [Dash The Curry [Skit]]   \n",
       "./media/audio/Hombre.mp3                             [Hombre]   \n",
       "\n",
       "                                                        title    date  \\\n",
       "./media/audio/FireFire.mp3                       [Fire, Fire]  [2005]   \n",
       "./media/audio/Amazon.mp3                             [Amazon]  [2005]   \n",
       "./media/audio/DashTheCurry[Skit].mp3  [Dash The Curry [Skit]]  [2005]   \n",
       "./media/audio/Hombre.mp3                             [Hombre]  [2005]   \n",
       "\n",
       "                                                  sample rate  \\\n",
       "./media/audio/FireFire.mp3                       [Fire, Fire]   \n",
       "./media/audio/Amazon.mp3                             [Amazon]   \n",
       "./media/audio/DashTheCurry[Skit].mp3  [Dash The Curry [Skit]]   \n",
       "./media/audio/Hombre.mp3                             [Hombre]   \n",
       "\n",
       "                                                      bitrate   track  \\\n",
       "./media/audio/FireFire.mp3                       [Fire, Fire]  [5/13]   \n",
       "./media/audio/Amazon.mp3                             [Amazon]  [7/13]   \n",
       "./media/audio/DashTheCurry[Skit].mp3  [Dash The Curry [Skit]]  [6/13]   \n",
       "./media/audio/Hombre.mp3                             [Hombre]  [9/13]   \n",
       "\n",
       "                                                                  composer  \\\n",
       "./media/audio/FireFire.mp3            [Maya Arulpragasam, Anthony Whiting]   \n",
       "./media/audio/Amazon.mp3                   [Maya Arulpragasam, Richard X.]   \n",
       "./media/audio/DashTheCurry[Skit].mp3                   [Maya Arulpragasam]   \n",
       "./media/audio/Hombre.mp3              [Maya Arulpragasam, Anthony Whiting]   \n",
       "\n",
       "                                            encoder  channels  \n",
       "./media/audio/FireFire.mp3            [iTunes v7.1]         4  \n",
       "./media/audio/Amazon.mp3              [iTunes v7.1]         4  \n",
       "./media/audio/DashTheCurry[Skit].mp3  [iTunes v7.1]         4  \n",
       "./media/audio/Hombre.mp3              [iTunes v7.1]         4  "
      ]
     },
     "execution_count": 352,
     "metadata": {},
     "output_type": "execute_result"
    }
   ],
   "source": [
    "# Test your function here.\n",
    "class Criteria(Enum):\n",
    "    ARTIST = 1,\n",
    "    ALBUM = 2,\n",
    "    GENRE = 3\n",
    "MyAudioFilesOrganizer(\"./media/audio/*\", Criteria.ARTIST)\n"
   ]
  },
  {
   "cell_type": "markdown",
   "metadata": {},
   "source": [
    "## Task 2.2 Audio mixer (25P):"
   ]
  },
  {
   "cell_type": "code",
   "execution_count": 320,
   "metadata": {},
   "outputs": [],
   "source": [
    "# Write your function here.\n",
    "\n",
    "# Cuts an audio file by delegating the cutting to FFMPEG.\n",
    "def TwoAudioMixer(audioFile1: str, a1From: int, a1To: int, \n",
    "                  audioFile2: str, a2From: int, a2To: int, overlapDur: float, \n",
    "                  outputDir: str, outFilename: str) -> None:\n",
    "    pass"
   ]
  },
  {
   "cell_type": "code",
   "execution_count": null,
   "metadata": {},
   "outputs": [],
   "source": [
    "# Test your function here."
   ]
  },
  {
   "cell_type": "markdown",
   "metadata": {},
   "source": [
    "## Task 2.3 Concealing speakers ID by lowering/increasing the audio pitch (20P):"
   ]
  },
  {
   "cell_type": "code",
   "execution_count": null,
   "metadata": {},
   "outputs": [],
   "source": [
    "# Write your function here.\n",
    "\n",
    "# Generates a pandas DataFrame of audio metadata.\n",
    "def VoicePitchChanger(audioFile: str, shift: float, outputDir: str, outFilename: str) -> None:\n",
    "    pass"
   ]
  },
  {
   "cell_type": "code",
   "execution_count": null,
   "metadata": {},
   "outputs": [],
   "source": [
    "# Test your function here."
   ]
  },
  {
   "cell_type": "code",
   "execution_count": null,
   "metadata": {},
   "outputs": [],
   "source": []
  }
 ],
 "metadata": {
  "kernelspec": {
   "display_name": "Python 3",
   "language": "python",
   "name": "python3"
  },
  "language_info": {
   "codemirror_mode": {
    "name": "ipython",
    "version": 3
   },
   "file_extension": ".py",
   "mimetype": "text/x-python",
   "name": "python",
   "nbconvert_exporter": "python",
   "pygments_lexer": "ipython3",
   "version": "3.8.8"
  }
 },
 "nbformat": 4,
 "nbformat_minor": 4
}
