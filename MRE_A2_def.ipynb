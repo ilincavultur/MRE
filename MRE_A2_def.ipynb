{
 "cells": [
  {
   "cell_type": "markdown",
   "metadata": {},
   "source": [
    "### Copyright-protected material, all rights reserved. (c) University of Vienna.\n",
    "_Copyright Notice of the corresponding course at Moodle applies. <br> Only to be used in the MRE course._"
   ]
  },
  {
   "cell_type": "markdown",
   "metadata": {},
   "source": [
    "# MRE Assignment 2 - Digital Audio Processing \n",
    "\n",
    "In this assignment you will load, decode, and process digital audio files (e.g., MP3, WAV) using Python. For the following tasks, you will use our suggested libraries (see the setup section). For both audio formats you will extract and process content and some basic metadata. For the following tasks, you will use our suggested libraries. \n",
    "\n",
    "In this notebook, you find the detailed specification. For assessment of your solution you are expected to demonstrate your implementation and answer questions in mostly textual form here.\n",
    "\n",
    "❗ **Note:** Please make sure that all potential errors, including handling files, paths, and run-time errors are handled properly (e.g., useful error messages to users)."
   ]
  },
  {
   "cell_type": "markdown",
   "metadata": {},
   "source": [
    "## Import your implementation\n",
    "\n",
    "Import the corresponding Jupyter Notebook named \"*_impl.ipynb\" for this assignment here."
   ]
  },
  {
   "cell_type": "code",
   "execution_count": 13,
   "metadata": {},
   "outputs": [],
   "source": [
    "%%capture\n",
    "%run MRE_A2_impl.ipynb"
   ]
  },
  {
   "cell_type": "markdown",
   "metadata": {},
   "source": [
    "## Task 2.1 Organize Audio files by specific criteria (35P):\n",
    "\n",
    "\n",
    "\n",
    "Write a Python function MyAudioFilesOrganizer using mutagen and Wave libraries (Mutagen: https://mutagen.readthedocs.io/en/latest/) so that:\n",
    "- One can call it with two parameters, i.e., an input directory path and an enum representing the grouping criteria (the grouping criteria enum can be the artist, the album, or the genre).\n",
    "- The function lists the audio files in the directory grouped by the provided criteria. The list should also disply the following columns (if available from the source, probably in a specific format mentioned): \n",
    "  - artist (string)\n",
    "  - album (string)\n",
    "  - genre (string)\n",
    "  - filename (string)\n",
    "  - format (string)\n",
    "  - duration (float)\n",
    "  - title (string)\n",
    "  - date (string)\n",
    "  - sample rate (integer)\n",
    "  - bitrate (integer)\n",
    "  - track (string)\n",
    "  - composer (string)\n",
    "  - encoder (string)\n",
    "  \n",
    "- The function returns a pandas DataFrame that can be displayed. The DataFrame represents a table with the columns mentioned above.\n",
    "\n",
    "**Example:**<br>\n",
    "\n",
    "input = `./media/audio/`, `Criteria.ARTIST`<br>\n",
    "Function call: `MyAudioFilesOrganizer(\"./media/audio/\", Criteria.ARTIST)`\n",
    "<br>\n",
    "<br>\n",
    "The result might look like this:<br>\n",
    "![SampleTable](./A2T3_sampleTable.png)\n"
   ]
  },
  {
   "cell_type": "markdown",
   "metadata": {},
   "source": [
    "### Demonstrate your implementation:"
   ]
  },
  {
   "cell_type": "code",
   "execution_count": 16,
   "metadata": {},
   "outputs": [
    {
     "data": {
      "text/html": [
       "<div>\n",
       "<style scoped>\n",
       "    .dataframe tbody tr th:only-of-type {\n",
       "        vertical-align: middle;\n",
       "    }\n",
       "\n",
       "    .dataframe tbody tr th {\n",
       "        vertical-align: top;\n",
       "    }\n",
       "\n",
       "    .dataframe thead th {\n",
       "        text-align: right;\n",
       "    }\n",
       "</style>\n",
       "<table border=\"1\" class=\"dataframe\">\n",
       "  <thead>\n",
       "    <tr style=\"text-align: right;\">\n",
       "      <th></th>\n",
       "      <th>artist</th>\n",
       "      <th>album</th>\n",
       "      <th>genre</th>\n",
       "      <th>format</th>\n",
       "      <th>duration</th>\n",
       "      <th>title</th>\n",
       "      <th>date</th>\n",
       "      <th>sample rate</th>\n",
       "      <th>bitrate</th>\n",
       "      <th>track</th>\n",
       "      <th>composer</th>\n",
       "      <th>encoder</th>\n",
       "      <th>channels</th>\n",
       "    </tr>\n",
       "  </thead>\n",
       "  <tbody>\n",
       "    <tr>\n",
       "      <th>./media/audio/Task2.1/FireFire.mp3</th>\n",
       "      <td>(M.I.A.,)</td>\n",
       "      <td>[Arular]</td>\n",
       "      <td>[Hip Hop/Rap]</td>\n",
       "      <td>mp3</td>\n",
       "      <td>3.480381</td>\n",
       "      <td>[Fire, Fire]</td>\n",
       "      <td>[2005]</td>\n",
       "      <td>44100</td>\n",
       "      <td>160000</td>\n",
       "      <td>[5/13]</td>\n",
       "      <td>[Maya Arulpragasam, Anthony Whiting]</td>\n",
       "      <td>[iTunes v7.1]</td>\n",
       "      <td>2</td>\n",
       "    </tr>\n",
       "    <tr>\n",
       "      <th>./media/audio/Task2.1/Amazon.mp3</th>\n",
       "      <td>(M.I.A.,)</td>\n",
       "      <td>[Arular]</td>\n",
       "      <td>[Hip Hop/Rap]</td>\n",
       "      <td>mp3</td>\n",
       "      <td>4.278857</td>\n",
       "      <td>[Amazon]</td>\n",
       "      <td>[2005]</td>\n",
       "      <td>44100</td>\n",
       "      <td>160000</td>\n",
       "      <td>[7/13]</td>\n",
       "      <td>[Maya Arulpragasam, Richard X.]</td>\n",
       "      <td>[iTunes v7.1]</td>\n",
       "      <td>2</td>\n",
       "    </tr>\n",
       "    <tr>\n",
       "      <th>./media/audio/Task2.1/DashTheCurry[Skit].mp3</th>\n",
       "      <td>(M.I.A.,)</td>\n",
       "      <td>[Arular]</td>\n",
       "      <td>[Hip Hop/Rap]</td>\n",
       "      <td>mp3</td>\n",
       "      <td>0.669605</td>\n",
       "      <td>[Dash The Curry [Skit]]</td>\n",
       "      <td>[2005]</td>\n",
       "      <td>44100</td>\n",
       "      <td>160000</td>\n",
       "      <td>[6/13]</td>\n",
       "      <td>[Maya Arulpragasam]</td>\n",
       "      <td>[iTunes v7.1]</td>\n",
       "      <td>2</td>\n",
       "    </tr>\n",
       "    <tr>\n",
       "      <th>./media/audio/Task2.1/error.wav</th>\n",
       "      <td>(-,)</td>\n",
       "      <td>-</td>\n",
       "      <td>-</td>\n",
       "      <td>wav</td>\n",
       "      <td>0.054422</td>\n",
       "      <td>-</td>\n",
       "      <td>-</td>\n",
       "      <td>44100</td>\n",
       "      <td>88200</td>\n",
       "      <td>-</td>\n",
       "      <td>-</td>\n",
       "      <td>-</td>\n",
       "      <td>1</td>\n",
       "    </tr>\n",
       "    <tr>\n",
       "      <th>./media/audio/Task2.1/Hombre.mp3</th>\n",
       "      <td>(M.I.A.,)</td>\n",
       "      <td>[Arular]</td>\n",
       "      <td>[Hip Hop/Rap]</td>\n",
       "      <td>mp3</td>\n",
       "      <td>4.035482</td>\n",
       "      <td>[Hombre]</td>\n",
       "      <td>[2005]</td>\n",
       "      <td>44100</td>\n",
       "      <td>160000</td>\n",
       "      <td>[9/13]</td>\n",
       "      <td>[Maya Arulpragasam, Anthony Whiting]</td>\n",
       "      <td>[iTunes v7.1]</td>\n",
       "      <td>2</td>\n",
       "    </tr>\n",
       "  </tbody>\n",
       "</table>\n",
       "</div>"
      ],
      "text/plain": [
       "                                                 artist     album  \\\n",
       "./media/audio/Task2.1/FireFire.mp3            (M.I.A.,)  [Arular]   \n",
       "./media/audio/Task2.1/Amazon.mp3              (M.I.A.,)  [Arular]   \n",
       "./media/audio/Task2.1/DashTheCurry[Skit].mp3  (M.I.A.,)  [Arular]   \n",
       "./media/audio/Task2.1/error.wav                    (-,)         -   \n",
       "./media/audio/Task2.1/Hombre.mp3              (M.I.A.,)  [Arular]   \n",
       "\n",
       "                                                      genre format  duration  \\\n",
       "./media/audio/Task2.1/FireFire.mp3            [Hip Hop/Rap]    mp3  3.480381   \n",
       "./media/audio/Task2.1/Amazon.mp3              [Hip Hop/Rap]    mp3  4.278857   \n",
       "./media/audio/Task2.1/DashTheCurry[Skit].mp3  [Hip Hop/Rap]    mp3  0.669605   \n",
       "./media/audio/Task2.1/error.wav                           -    wav  0.054422   \n",
       "./media/audio/Task2.1/Hombre.mp3              [Hip Hop/Rap]    mp3  4.035482   \n",
       "\n",
       "                                                                title    date  \\\n",
       "./media/audio/Task2.1/FireFire.mp3                       [Fire, Fire]  [2005]   \n",
       "./media/audio/Task2.1/Amazon.mp3                             [Amazon]  [2005]   \n",
       "./media/audio/Task2.1/DashTheCurry[Skit].mp3  [Dash The Curry [Skit]]  [2005]   \n",
       "./media/audio/Task2.1/error.wav                                     -       -   \n",
       "./media/audio/Task2.1/Hombre.mp3                             [Hombre]  [2005]   \n",
       "\n",
       "                                              sample rate  bitrate   track  \\\n",
       "./media/audio/Task2.1/FireFire.mp3                  44100   160000  [5/13]   \n",
       "./media/audio/Task2.1/Amazon.mp3                    44100   160000  [7/13]   \n",
       "./media/audio/Task2.1/DashTheCurry[Skit].mp3        44100   160000  [6/13]   \n",
       "./media/audio/Task2.1/error.wav                     44100    88200       -   \n",
       "./media/audio/Task2.1/Hombre.mp3                    44100   160000  [9/13]   \n",
       "\n",
       "                                                                          composer  \\\n",
       "./media/audio/Task2.1/FireFire.mp3            [Maya Arulpragasam, Anthony Whiting]   \n",
       "./media/audio/Task2.1/Amazon.mp3                   [Maya Arulpragasam, Richard X.]   \n",
       "./media/audio/Task2.1/DashTheCurry[Skit].mp3                   [Maya Arulpragasam]   \n",
       "./media/audio/Task2.1/error.wav                                                  -   \n",
       "./media/audio/Task2.1/Hombre.mp3              [Maya Arulpragasam, Anthony Whiting]   \n",
       "\n",
       "                                                    encoder  channels  \n",
       "./media/audio/Task2.1/FireFire.mp3            [iTunes v7.1]         2  \n",
       "./media/audio/Task2.1/Amazon.mp3              [iTunes v7.1]         2  \n",
       "./media/audio/Task2.1/DashTheCurry[Skit].mp3  [iTunes v7.1]         2  \n",
       "./media/audio/Task2.1/error.wav                           -         1  \n",
       "./media/audio/Task2.1/Hombre.mp3              [iTunes v7.1]         2  "
      ]
     },
     "execution_count": 16,
     "metadata": {},
     "output_type": "execute_result"
    }
   ],
   "source": [
    "# Demonstrate your implementation here.\n",
    "# Only enter the calls to your functions here so you can demonstrate validity of your solution.\n",
    "class Criteria(Enum):\n",
    "    artist = 1,\n",
    "    album = 2,\n",
    "    genre = 3\n",
    "MyAudioFilesOrganizer(\"./media/audio/Task2.1/*\", Criteria.artist)"
   ]
  },
  {
   "cell_type": "markdown",
   "metadata": {},
   "source": [
    "## Task 2.2: Audio mixer (25P):\n",
    "\n",
    "Write a Python function `TwoAudioMixer` using `ffmpeg` so that:\n",
    "- One can call it with the parameters as below: \n",
    "  - audio file 1\n",
    "  - start in seconds\n",
    "  - end in seconds\n",
    "  - audio file 2\n",
    "  - start in seconds\n",
    "  - end in seconds\n",
    "  - overlapDur\n",
    "  - outputDir\n",
    "  - outputFilename\n",
    "  <br>\n",
    "Where start and end in seconds specify the part of the audio file to be mixed, i.e., start and end. The transition from audio 1 to audio 2 should overlap as specified by the input parameter overlap duration.\n",
    "\t\n",
    "**Example:**\n",
    "Function call: `TwoAudioMixer('../a1.mp3', 0, 6, '../a2.mp3', 0, 6, 2, \"output-a2\", \"t2-mixed.mp3\")`"
   ]
  },
  {
   "cell_type": "markdown",
   "metadata": {},
   "source": [
    "### Demonstrate your implementation:"
   ]
  },
  {
   "cell_type": "code",
   "execution_count": 17,
   "metadata": {},
   "outputs": [],
   "source": [
    "# Demonstrate your implementation here. \n",
    "# Only enter the calls to your functions here so you can demonstrate validity of your solution.\n",
    "TwoAudioMixer(\"media/audio/FireFire.mp3\", 0, 10, \"media/audio/Task2.2/DashTheCurry[Skit].mp3\", 0, 10, 2, \"media/audio/Task2.2/\", \"outputMix.mp3\")"
   ]
  },
  {
   "cell_type": "markdown",
   "metadata": {},
   "source": [
    "## Task 2.3: Concealing speakers ID by lowering/increasing the audio pitch (20P):\n",
    "\n",
    "Write a Python function VoicePitchChanger so that:\n",
    "- One can call it with four parameters: \n",
    "  - audio file 1\n",
    "  - shift degree: e.g., -5 to 5\n",
    "  - outputDir\n",
    "  - outputFilename\n",
    "- Try to reverse the result by providing the output file to your function.\n",
    "- Note that the length of the audio file should not be affected by the pitch change.\n",
    "\n",
    "**Example:**\n",
    "Function call: `VoicePitchChanger('../a1.mp3', 1.5, \"output-a2\", \"t3-pitched.mp3\")`"
   ]
  },
  {
   "cell_type": "markdown",
   "metadata": {},
   "source": [
    "### Demonstrate your implementation:"
   ]
  },
  {
   "cell_type": "code",
   "execution_count": null,
   "metadata": {},
   "outputs": [],
   "source": [
    "# Demonstrate your implementation here.\n",
    "# Only enter the calls to your functions here so you can demonstrate validity of your solution.\n",
    "VoicePitchChanger(\"media/audio/Task2.3/Hombre.mp3\", 1.5, \"media/audio/Task2.3/\", \"pitch.mp3\")"
   ]
  },
  {
   "cell_type": "markdown",
   "metadata": {},
   "source": [
    "## Task 2.4: Theoretical part (20P):\n",
    "\n",
    "Answer the following questions in written form:\n",
    "\n",
    "- How is the volume (i.e., how loud a sound is) reflected in analog and digital audio signals?\n",
    "\n",
    "In analog signals, volume is represented by different pressure values over time, while in digital signals volume is represented as amplitude.\n",
    "  \n",
    "- Why does it make sense to perform non-uniform quantization?\n",
    "\n",
    "Linear Quantization stores samples linearly. If storage is important, non-uniform quantization is better since it uses non uniform quantization levels which are more suited to the frequencies that humans hear best.\n",
    "\n",
    "- What is Pulse Code Modulation (PCM)?\n",
    "\n",
    "It is equivalent to the sampling and quantization techniques used in the digitization of audio signals\n",
    "\n",
    "\n",
    "- Why do WAV files require more storage space than MP3 files?\n",
    "\n",
    "Firstly, WAV is a lossless compression method while MP3 is a lossy one. This automatically means the size of the first one will be bigger than the second one. WAV contains the original data that was converted from analog to digital. MP3 uses psychoacoustics in the compressing process so that unimportant data is reduced in favor of smaller storage size: frequencies that cannot be heard by human hearing are removed, sounds that are masked by other sounds are removed.\n",
    "\n",
    "- Describe the physical appearance of sound and how it is converted to digitally sampled audio. Explain how sampling works and the meaning of the terms amplitude, sampling frequency, and quantization.\n",
    "\n",
    "Sound is a wave shaped signal. Through digitization of an analog signal, the signal is converted to a digital signal (a series of bits). The sound wave is considered to be 1 dimensional: pressure of sound (amplitude) changes in time, time being the only independent variable. The pressure over time is a continuous variable so it has infinite values, which is why it needs to be transformed into discrete values by sampling when we digitize it. To digitize the signal, sampling in both dimensions - time (\"sampling\") and amplitude (\"quantization\") - is required.\n",
    "\n",
    "Sampling is measuring (sampling) a signal at equally spaced intervals in the time dimension.\n",
    "\n",
    "Amplitude or magnitude measures the intensity of a sound and it is measured in decibels.\n",
    "\n",
    "Sampling frequency is the rate at which sampling is being performed, so how many samples (sinus periods) are being measured in a second.\n",
    "\n",
    "Quantization means sampling a signal in the amplitude dimension."
   ]
  },
  {
   "cell_type": "code",
   "execution_count": 11,
   "metadata": {},
   "outputs": [],
   "source": [
    "!pip freeze > requirements.txt"
   ]
  },
  {
   "cell_type": "code",
   "execution_count": null,
   "metadata": {},
   "outputs": [],
   "source": []
  }
 ],
 "metadata": {
  "kernelspec": {
   "display_name": "Python 3",
   "language": "python",
   "name": "python3"
  },
  "language_info": {
   "codemirror_mode": {
    "name": "ipython",
    "version": 3
   },
   "file_extension": ".py",
   "mimetype": "text/x-python",
   "name": "python",
   "nbconvert_exporter": "python",
   "pygments_lexer": "ipython3",
   "version": "3.8.8"
  }
 },
 "nbformat": 4,
 "nbformat_minor": 4
}
