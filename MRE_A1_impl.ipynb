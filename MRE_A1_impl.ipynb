{
 "cells": [
  {
   "cell_type": "markdown",
   "metadata": {},
   "source": [
    "### Copyright-protected material, all rights reserved. (c) University of Vienna.\n",
    "_Copyright Notice of the corresponding course at Moodle applies. <br> Only to be used in the MRE course._"
   ]
  },
  {
   "cell_type": "markdown",
   "metadata": {},
   "source": [
    "# MRE Assignment 1 - Digital Image Processing\n",
    "\n",
    "In this assignment you will use Python (using Pillow or OpenCV) to load, transcode and store images. You will also use the libraries to extract some basic metadata from the images and store them in a data structure for easy access.\n",
    "\n",
    "In this notebook, you will implement your solution. This notebook will be imported into the \"*_def.ipynb\" notebook.\n",
    "\n",
    "Of course you can include code for testing your implementation in this implementation notebook, but code for testing and output generated for testing is not going to be assessed.\n",
    "\n",
    "Of course, your code for the solutions in this notebook will be inspected and is subject to grading.\n"
   ]
  },
  {
   "cell_type": "markdown",
   "metadata": {},
   "source": [
    "## Setup\n",
    "\n",
    "For general installation instructions, please refer to the ressources given for all the assignments [in Moodle](https://moodle.univie.ac.at/course/view.php?id=260637#section-13).\n",
    "\n",
    "If the cell below executes without error, you can start the assignment!"
   ]
  },
  {
   "cell_type": "code",
   "execution_count": 407,
   "metadata": {},
   "outputs": [],
   "source": [
    "# -------- Imports --------\n",
    "# Please do not change the contents of this cell!\n",
    "\n",
    "# In case you work in a local environment on your own machine,\n",
    "# how to install the required packages:\n",
    "#   PIP:     pip install <name> / pip install --upgrade <name>\n",
    "#   CONDA:   conda install -c conda-forge <name>  /  conda install -c anaconda <name>\n",
    "\n",
    "\n",
    "# Imports required by us.\n",
    "import cv2                             # opencv-python\n",
    "from PIL import Image                  # pillow\n",
    "from PIL.ExifTags import TAGS\n",
    "from matplotlib import pyplot as plt   # matplotlib\n",
    "from sklearn.metrics.pairwise import cosine_similarity  # scikit-learn\n",
    "import numpy as np                     # numpy\n",
    "import pandas as pd                    # pandas\n",
    "from IPython.display import display    # packaged with python\n",
    "\n",
    "# This directive will allow matplotlib to render interactive plots in the notebook.\n",
    "%matplotlib widget"
   ]
  },
  {
   "cell_type": "markdown",
   "metadata": {},
   "source": [
    "In the cells below, place your own imports, global variables, (helper) functions and classes. Feel free to add cells here as you see fit."
   ]
  },
  {
   "cell_type": "code",
   "execution_count": 663,
   "metadata": {},
   "outputs": [],
   "source": [
    "# Please place your own imports here.\n",
    "from PIL import ImageFilter \n",
    "import glob"
   ]
  },
  {
   "cell_type": "code",
   "execution_count": 122,
   "metadata": {},
   "outputs": [],
   "source": [
    "# Place any helper functions, global variables and classes here."
   ]
  },
  {
   "cell_type": "markdown",
   "metadata": {},
   "source": [
    "## Task 1.1: Image formats transformation and adding filters\n"
   ]
  },
  {
   "cell_type": "code",
   "execution_count": 615,
   "metadata": {},
   "outputs": [],
   "source": [
    "# Write your function here.\n",
    "\n",
    "# Transcodes images to JPEG format of adjustable quality (for JPEG).\n",
    "def JPEGImageConverter(inputImg: str, outputDir: str, quality: float = 1.0) -> None:\n",
    "    quality_factor = int(quality*100)\n",
    "    img = Image.open(inputImg).convert('RGB')\n",
    "    img.save(outputDir,'JPEG', quality = quality_factor)"
   ]
  },
  {
   "cell_type": "code",
   "execution_count": 616,
   "metadata": {},
   "outputs": [],
   "source": [
    "# Test your function here.\n",
    "JPEGImageConverter(\"images/the_real_firefox_dithered.bmp\", \"./output_dir\" + \".jpeg\")"
   ]
  },
  {
   "cell_type": "code",
   "execution_count": 661,
   "metadata": {},
   "outputs": [],
   "source": [
    "# Add Blur filter\n",
    "def BlurImage(inputImg: str) -> None:\n",
    "    img = Image.open(inputImg)\n",
    "    img.convert('RGB')\n",
    "    img.filter(ImageFilter.BLUR).save(\"images/blurredimg.jpg\")"
   ]
  },
  {
   "cell_type": "code",
   "execution_count": 662,
   "metadata": {},
   "outputs": [],
   "source": [
    "# Test your function here.\n",
    "BlurImage(\"images/b2seaanimals005.jpg\")"
   ]
  },
  {
   "cell_type": "markdown",
   "metadata": {},
   "source": [
    "## Task 1.2:  Extract / Get Image Metadata"
   ]
  },
  {
   "cell_type": "code",
   "execution_count": 711,
   "metadata": {},
   "outputs": [],
   "source": [
    "# Write your function here. \n",
    "\n",
    "# Extracts metadata from an image and places them into a Pandas DataFrame.\n",
    "def ImageMetadataGenerator(inputImage: str) -> pd.DataFrame:\n",
    "    images = glob.glob(inputImage)\n",
    "    df = pd.DataFrame()\n",
    "    rows = []\n",
    "    for image in images:\n",
    "        with open(image, 'rb') as file:\n",
    "            img = Image.open(file)\n",
    "            \n",
    "            rows = np.append(rows, file.name)\n",
    "            \n",
    "            # alpha channel\n",
    "            if (img.mode == 'RGBA'):\n",
    "                _, _, _, alpha = img.split()\n",
    "            else :\n",
    "                alpha = 'None'\n",
    "        \n",
    "            # height, width\n",
    "            width, height = img.size\n",
    "            \n",
    "            # no of channels\n",
    "            channels = len(img.getbands())\n",
    "            \n",
    "            # bits per pixel\n",
    "            mode_types_bits = {'1':1, 'L':8, 'P':8, 'LAB':24, 'HSV':24, 'RGB':24, 'YCbCr':24, 'RGBA':32, 'CMYK':32, 'I':32, 'F':32}\n",
    "            bpp = mode_types_bits[img.mode]\n",
    "            \n",
    "            # no of components\n",
    "            components = channels\n",
    "\n",
    "            #colorspace type\n",
    "            colorspace = img.mode\n",
    "\n",
    "            data = np.array(([width, height, components, channels, bpp, colorspace, alpha]))\n",
    "            df2 = pd.DataFrame(data = [data],columns = ['width', 'height', 'no of components', 'no of channels', 'bits per pixel', 'colorspace type', 'alpha channel'])\n",
    "        \n",
    "            df = df.append(df2 ,ignore_index = True)    \n",
    "    \n",
    "    df.index = rows\n",
    "    return df\n"
   ]
  },
  {
   "cell_type": "code",
   "execution_count": 712,
   "metadata": {},
   "outputs": [
    {
     "data": {
      "text/html": [
       "<div>\n",
       "<style scoped>\n",
       "    .dataframe tbody tr th:only-of-type {\n",
       "        vertical-align: middle;\n",
       "    }\n",
       "\n",
       "    .dataframe tbody tr th {\n",
       "        vertical-align: top;\n",
       "    }\n",
       "\n",
       "    .dataframe thead th {\n",
       "        text-align: right;\n",
       "    }\n",
       "</style>\n",
       "<table border=\"1\" class=\"dataframe\">\n",
       "  <thead>\n",
       "    <tr style=\"text-align: right;\">\n",
       "      <th></th>\n",
       "      <th>width</th>\n",
       "      <th>height</th>\n",
       "      <th>no of components</th>\n",
       "      <th>no of channels</th>\n",
       "      <th>bits per pixel</th>\n",
       "      <th>colorspace type</th>\n",
       "      <th>alpha channel</th>\n",
       "    </tr>\n",
       "  </thead>\n",
       "  <tbody>\n",
       "    <tr>\n",
       "      <th>images/Task1.3/partyballoons-1.jpg</th>\n",
       "      <td>450</td>\n",
       "      <td>298</td>\n",
       "      <td>3</td>\n",
       "      <td>3</td>\n",
       "      <td>24</td>\n",
       "      <td>RGB</td>\n",
       "      <td>None</td>\n",
       "    </tr>\n",
       "    <tr>\n",
       "      <th>images/Task1.3/partyballoons-2.jpg</th>\n",
       "      <td>433</td>\n",
       "      <td>450</td>\n",
       "      <td>3</td>\n",
       "      <td>3</td>\n",
       "      <td>24</td>\n",
       "      <td>RGB</td>\n",
       "      <td>None</td>\n",
       "    </tr>\n",
       "    <tr>\n",
       "      <th>images/Task1.3/modified.jpg</th>\n",
       "      <td>450</td>\n",
       "      <td>298</td>\n",
       "      <td>3</td>\n",
       "      <td>3</td>\n",
       "      <td>24</td>\n",
       "      <td>RGB</td>\n",
       "      <td>None</td>\n",
       "    </tr>\n",
       "  </tbody>\n",
       "</table>\n",
       "</div>"
      ],
      "text/plain": [
       "                                   width height no of components  \\\n",
       "images/Task1.3/partyballoons-1.jpg   450    298                3   \n",
       "images/Task1.3/partyballoons-2.jpg   433    450                3   \n",
       "images/Task1.3/modified.jpg          450    298                3   \n",
       "\n",
       "                                   no of channels bits per pixel  \\\n",
       "images/Task1.3/partyballoons-1.jpg              3             24   \n",
       "images/Task1.3/partyballoons-2.jpg              3             24   \n",
       "images/Task1.3/modified.jpg                     3             24   \n",
       "\n",
       "                                   colorspace type alpha channel  \n",
       "images/Task1.3/partyballoons-1.jpg             RGB          None  \n",
       "images/Task1.3/partyballoons-2.jpg             RGB          None  \n",
       "images/Task1.3/modified.jpg                    RGB          None  "
      ]
     },
     "execution_count": 712,
     "metadata": {},
     "output_type": "execute_result"
    }
   ],
   "source": [
    "# Test your function here.\n",
    "ImageMetadataGenerator(\"images/Task1.3/*\")"
   ]
  },
  {
   "cell_type": "markdown",
   "metadata": {},
   "source": [
    "## Task 1.3: Drawing circles around objects in an image"
   ]
  },
  {
   "cell_type": "code",
   "execution_count": 701,
   "metadata": {},
   "outputs": [],
   "source": [
    "# Write your function here. \n",
    "\n",
    "# Identifies shapes in an images and draws circles around them.\n",
    "def IdentifyObjects(inputImage: str) -> None:\n",
    "    img = cv2.imread(inputImage)\n",
    "    \n",
    "    grayscale = cv2.cvtColor(img, cv2.COLOR_BGR2GRAY)\n",
    " \n",
    "    #reduces noise \n",
    "    blur = cv2.GaussianBlur(grayscale, (5, 5), 0)\n",
    "    \n",
    "    ret, thresh = cv2.threshold(blur, 240, 255, cv2.THRESH_BINARY_INV)\n",
    "    \n",
    "    contours, hierarchies = cv2.findContours(thresh, cv2.RETR_LIST, cv2.CHAIN_APPROX_NONE)\n",
    "\n",
    "    cv2.fillPoly(img, pts =contours, color=(0,0,0))\n",
    "\n",
    "    for i in contours:\n",
    "        \n",
    "        M = cv2.moments(i)\n",
    "        \n",
    "        # binary img: counting all non zero pixels, greyscale img: sum of pixel intensity values\n",
    "        \n",
    "        area = M['m00']\n",
    "        \n",
    "        # centroid = mean position of all points\n",
    "        \n",
    "        #M10 = sum of all non zero pixels x coord\n",
    "        \n",
    "        cX = int(M['m10'] / area)\n",
    "        \n",
    "        #M01 = sum of all non zero pixels y coord\n",
    "        \n",
    "        cY = int(M['m01'] / area)\n",
    "        \n",
    "        cv2.circle(img, (cX, cY), 100, (0, 0, 255), 2)\n",
    "\n",
    "            \n",
    "    cv2.imwrite(\"images/Task1.3/modified.jpg\", img)"
   ]
  },
  {
   "cell_type": "code",
   "execution_count": 702,
   "metadata": {},
   "outputs": [],
   "source": [
    "# Test your function here.\n",
    "IdentifyObjects('images/Task1.3/partyballoons-1.jpg')"
   ]
  },
  {
   "cell_type": "markdown",
   "metadata": {},
   "source": [
    "## Task 1.4: Duplicate image finder using cosine similarity"
   ]
  },
  {
   "cell_type": "code",
   "execution_count": 864,
   "metadata": {},
   "outputs": [],
   "source": [
    "# Calculates a histogram for one image.\n",
    "def ImageHistogramGenerator(inputImage: str) -> np.array:\n",
    "    img = Image.open(inputImage)\n",
    "   \n",
    "    grayscale = cv2.cvtColor(np.array(img), cv2.COLOR_BGR2GRAY)\n",
    "    #print(grayscale.shape)\n",
    "    width, height = img.size\n",
    "    #width = grayscale.shape[0] + 1\n",
    "    #print(width)\n",
    "    #height = grayscale.shape[1] + 1\n",
    "\n",
    "\n",
    "    y_axis = np.zeros((1, 256))\n",
    "    x_axis = np.arange(0, 256)\n",
    "\n",
    "    for i in range(0, height):\n",
    "        for j in range(0, width):\n",
    "            y_axis[0][grayscale[i,j]] += 1\n",
    "    \n",
    "    #plt.figure(figsize=(9, 3))\n",
    " \n",
    "    #plt.plot(x_axis, y_axis.flatten())\n",
    "    #plt.show()\n",
    "\n",
    "    #hist = cv2.calcHist([img],[0],None,[256],[0,256])\n",
    "    #plt.plot(hist)\n",
    "    #plt.show()\n",
    "    \n",
    "    return y_axis"
   ]
  },
  {
   "cell_type": "code",
   "execution_count": 858,
   "metadata": {},
   "outputs": [
    {
     "name": "stdout",
     "output_type": "stream",
     "text": [
      "(642, 964)\n"
     ]
    },
    {
     "data": {
      "application/vnd.jupyter.widget-view+json": {
       "model_id": "02e180a4b017485a87638ef0d9bab3ce",
       "version_major": 2,
       "version_minor": 0
      },
      "text/html": [
       "\n",
       "            <div style=\"display: inline-block;\">\n",
       "                <div class=\"jupyter-widgets widget-label\" style=\"text-align: center;\">\n",
       "                    Figure\n",
       "                </div>\n",
       "                <img src='data:image/png;base64,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' width=900.0/>\n",
       "            </div>\n",
       "        "
      ],
      "text/plain": [
       "Canvas(toolbar=Toolbar(toolitems=[('Home', 'Reset original view', 'home', 'home'), ('Back', 'Back to previous …"
      ]
     },
     "metadata": {},
     "output_type": "display_data"
    },
    {
     "data": {
      "text/plain": [
       "array([[  20.,  142.,  252.,  446.,  947., 1242., 1624., 1982., 2601.,\n",
       "        3124., 3551., 3894., 4272., 4543., 4738., 4903., 4947., 4987.,\n",
       "        4737., 4696., 4563., 4321., 4446., 4373., 4228., 4106., 4153.,\n",
       "        3926., 3919., 3899., 3845., 3869., 3792., 3717., 3565., 3639.,\n",
       "        3600., 3582., 3566., 3560., 3553., 3485., 3524., 3399., 3393.,\n",
       "        3306., 3457., 3328., 3501., 3390., 3354., 3368., 3454., 3570.,\n",
       "        3589., 3464., 3502., 3471., 3421., 3484., 3488., 3746., 3647.,\n",
       "        3408., 3411., 3392., 3418., 3396., 3410., 3273., 3263., 3069.,\n",
       "        2954., 2954., 3007., 2926., 2973., 2907., 2967., 2822., 2738.,\n",
       "        2730., 2594., 2874., 3084., 3403., 2946., 2864., 3222., 3138.,\n",
       "        2688., 2707., 2900., 2803., 2567., 2481., 2582., 2709., 2564.,\n",
       "        2508., 2547., 2606., 2642., 2456., 2509., 2527., 2576., 2482.,\n",
       "        2595., 2497., 2408., 2281., 2157., 2247., 2247., 2265., 2313.,\n",
       "        2137., 2216., 2790., 2723., 2545., 2754., 2728., 2317., 2074.,\n",
       "        2117., 2051., 2079., 1903., 1916., 1909., 1979., 1961., 2172.,\n",
       "        2154., 2164., 2093., 2180., 2181., 2232., 2165., 1969., 1976.,\n",
       "        1915., 1850., 1852., 1873., 1733., 1783., 1894., 1998., 2025.,\n",
       "        2072., 2109., 2197., 2111., 1889., 1943., 1947., 2155., 2240.,\n",
       "        2121., 2041., 2037., 2087., 2106., 2459., 2664., 2879., 3170.,\n",
       "        2806., 2578., 2783., 3295., 3293., 3223., 2952., 2609., 2867.,\n",
       "        3082., 3052., 2951., 2635., 2434., 2342., 1918., 1845., 1711.,\n",
       "        1965., 2156., 2788., 1980., 1958., 2781., 2224., 1950., 1704.,\n",
       "        1679., 1541., 1609., 1607., 1827., 1529., 1531., 1560., 1693.,\n",
       "        1396., 1628., 1843., 1584., 1239., 1299., 1177., 1135., 1175.,\n",
       "        1144., 1185., 1232., 1255., 1693., 1466., 1261., 1059., 1057.,\n",
       "        1101., 1111., 1073., 1195., 1230., 1168., 1000., 1041., 1143.,\n",
       "        1080., 1075.,  930.,  970.,  920.,  929., 1122., 1191., 1322.,\n",
       "        1508., 1358., 1297.,  966.,  770.,  537.,  407.,  399.,  336.,\n",
       "         387.,  433.,  510.,  240.]])"
      ]
     },
     "execution_count": 858,
     "metadata": {},
     "output_type": "execute_result"
    }
   ],
   "source": [
    "# Test your function here.\n",
    "ImageHistogramGenerator('images/jawa-3.jpg')"
   ]
  },
  {
   "cell_type": "code",
   "execution_count": 865,
   "metadata": {},
   "outputs": [],
   "source": [
    "# Find duplicate images and return their similarity scores in a dataframe.\n",
    "def FindDuplicateImages(inputDir1 : str, inputDir2: str, similarityThreshold: float = 1.0) -> pd.DataFrame:\n",
    "    imgs1 = glob.glob(inputDir1)\n",
    "    imgs2 = glob.glob(inputDir2)\n",
    "\n",
    "    df = pd.DataFrame(columns = [\"inputDir1\", \"inputDir2\",\"similarityThreshold\"])\n",
    "\n",
    "    for img1 in imgs1:\n",
    "        with open(img1, 'rb') as file1:\n",
    "            image1 = Image.open(file1)\n",
    "            hist1 = ImageHistogramGenerator(img1) \n",
    "            hist1 = hist1.flatten()\n",
    "        data = []\n",
    "        for img2 in imgs2:\n",
    "            with open(img2, 'rb') as file2:\n",
    "                image2 = Image.open(file2)\n",
    "                hist2 = ImageHistogramGenerator(img2)\n",
    "                hist2 = hist2.flatten()\n",
    "                \n",
    "                cos = cosine_similarity([hist1], [hist2])\n",
    "                names = np.array([img1, img2])\n",
    "                similarity = cos.flatten()\n",
    "                \n",
    "                df2 = pd.DataFrame({\"inputDir1\": [img1], \"inputDir2\": [img2], \"similarityThreshold\": similarity})\n",
    "                df = df.append(df2 ,ignore_index = True)      \n",
    " \n",
    "    return df\n"
   ]
  },
  {
   "cell_type": "code",
   "execution_count": 866,
   "metadata": {},
   "outputs": [
    {
     "data": {
      "text/html": [
       "<div>\n",
       "<style scoped>\n",
       "    .dataframe tbody tr th:only-of-type {\n",
       "        vertical-align: middle;\n",
       "    }\n",
       "\n",
       "    .dataframe tbody tr th {\n",
       "        vertical-align: top;\n",
       "    }\n",
       "\n",
       "    .dataframe thead th {\n",
       "        text-align: right;\n",
       "    }\n",
       "</style>\n",
       "<table border=\"1\" class=\"dataframe\">\n",
       "  <thead>\n",
       "    <tr style=\"text-align: right;\">\n",
       "      <th></th>\n",
       "      <th>inputDir1</th>\n",
       "      <th>inputDir2</th>\n",
       "      <th>similarityThreshold</th>\n",
       "    </tr>\n",
       "  </thead>\n",
       "  <tbody>\n",
       "    <tr>\n",
       "      <th>0</th>\n",
       "      <td>images/unu/b2seaanimals005.jpg</td>\n",
       "      <td>images/doi/b2seaanimals005.jpg</td>\n",
       "      <td>1.000000</td>\n",
       "    </tr>\n",
       "    <tr>\n",
       "      <th>1</th>\n",
       "      <td>images/unu/b2seaanimals005.jpg</td>\n",
       "      <td>images/doi/b1murene.jpg</td>\n",
       "      <td>0.213493</td>\n",
       "    </tr>\n",
       "    <tr>\n",
       "      <th>2</th>\n",
       "      <td>images/unu/b3_seaanimals014.jpg</td>\n",
       "      <td>images/doi/b2seaanimals005.jpg</td>\n",
       "      <td>0.316294</td>\n",
       "    </tr>\n",
       "    <tr>\n",
       "      <th>3</th>\n",
       "      <td>images/unu/b3_seaanimals014.jpg</td>\n",
       "      <td>images/doi/b1murene.jpg</td>\n",
       "      <td>0.338027</td>\n",
       "    </tr>\n",
       "    <tr>\n",
       "      <th>4</th>\n",
       "      <td>images/unu/b1murene.jpg</td>\n",
       "      <td>images/doi/b2seaanimals005.jpg</td>\n",
       "      <td>0.213493</td>\n",
       "    </tr>\n",
       "    <tr>\n",
       "      <th>5</th>\n",
       "      <td>images/unu/b1murene.jpg</td>\n",
       "      <td>images/doi/b1murene.jpg</td>\n",
       "      <td>1.000000</td>\n",
       "    </tr>\n",
       "  </tbody>\n",
       "</table>\n",
       "</div>"
      ],
      "text/plain": [
       "                         inputDir1                       inputDir2  \\\n",
       "0   images/unu/b2seaanimals005.jpg  images/doi/b2seaanimals005.jpg   \n",
       "1   images/unu/b2seaanimals005.jpg         images/doi/b1murene.jpg   \n",
       "2  images/unu/b3_seaanimals014.jpg  images/doi/b2seaanimals005.jpg   \n",
       "3  images/unu/b3_seaanimals014.jpg         images/doi/b1murene.jpg   \n",
       "4          images/unu/b1murene.jpg  images/doi/b2seaanimals005.jpg   \n",
       "5          images/unu/b1murene.jpg         images/doi/b1murene.jpg   \n",
       "\n",
       "   similarityThreshold  \n",
       "0             1.000000  \n",
       "1             0.213493  \n",
       "2             0.316294  \n",
       "3             0.338027  \n",
       "4             0.213493  \n",
       "5             1.000000  "
      ]
     },
     "execution_count": 866,
     "metadata": {},
     "output_type": "execute_result"
    }
   ],
   "source": [
    "# Test your function here.\n",
    "FindDuplicateImages(\"images/unu/*\", \"images/doi/*\", 1.0)"
   ]
  },
  {
   "cell_type": "code",
   "execution_count": null,
   "metadata": {},
   "outputs": [],
   "source": []
  },
  {
   "cell_type": "code",
   "execution_count": null,
   "metadata": {},
   "outputs": [],
   "source": []
  },
  {
   "cell_type": "code",
   "execution_count": null,
   "metadata": {},
   "outputs": [],
   "source": []
  }
 ],
 "metadata": {
  "kernelspec": {
   "display_name": "Python 3",
   "language": "python",
   "name": "python3"
  },
  "language_info": {
   "codemirror_mode": {
    "name": "ipython",
    "version": 3
   },
   "file_extension": ".py",
   "mimetype": "text/x-python",
   "name": "python",
   "nbconvert_exporter": "python",
   "pygments_lexer": "ipython3",
   "version": "3.8.8"
  }
 },
 "nbformat": 4,
 "nbformat_minor": 4
}
