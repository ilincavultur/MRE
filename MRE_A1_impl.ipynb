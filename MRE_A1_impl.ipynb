{
 "cells": [
  {
   "cell_type": "markdown",
   "metadata": {},
   "source": [
    "### Copyright-protected material, all rights reserved. (c) University of Vienna.\n",
    "_Copyright Notice of the corresponding course at Moodle applies. <br> Only to be used in the MRE course._"
   ]
  },
  {
   "cell_type": "markdown",
   "metadata": {},
   "source": [
    "# MRE Assignment 1 - Digital Image Processing\n",
    "\n",
    "In this assignment you will use Python (using Pillow or OpenCV) to load, transcode and store images. You will also use the libraries to extract some basic metadata from the images and store them in a data structure for easy access.\n",
    "\n",
    "In this notebook, you will implement your solution. This notebook will be imported into the \"*_def.ipynb\" notebook.\n",
    "\n",
    "Of course you can include code for testing your implementation in this implementation notebook, but code for testing and output generated for testing is not going to be assessed.\n",
    "\n",
    "Of course, your code for the solutions in this notebook will be inspected and is subject to grading.\n"
   ]
  },
  {
   "cell_type": "markdown",
   "metadata": {},
   "source": [
    "## Setup\n",
    "\n",
    "For general installation instructions, please refer to the ressources given for all the assignments [in Moodle](https://moodle.univie.ac.at/course/view.php?id=260637#section-13).\n",
    "\n",
    "If the cell below executes without error, you can start the assignment!"
   ]
  },
  {
   "cell_type": "code",
   "execution_count": 1,
   "metadata": {},
   "outputs": [],
   "source": [
    "# -------- Imports --------\n",
    "# Please do not change the contents of this cell!\n",
    "\n",
    "# In case you work in a local environment on your own machine,\n",
    "# how to install the required packages:\n",
    "#   PIP:     pip install <name> / pip install --upgrade <name>\n",
    "#   CONDA:   conda install -c conda-forge <name>  /  conda install -c anaconda <name>\n",
    "\n",
    "\n",
    "# Imports required by us.\n",
    "import cv2                             # opencv-python\n",
    "from PIL import Image                  # pillow\n",
    "from PIL.ExifTags import TAGS\n",
    "from matplotlib import pyplot as plt   # matplotlib\n",
    "from sklearn.metrics.pairwise import cosine_similarity  # scikit-learn\n",
    "import numpy as np                     # numpy\n",
    "import pandas as pd                    # pandas\n",
    "from IPython.display import display    # packaged with python\n",
    "\n",
    "# This directive will allow matplotlib to render interactive plots in the notebook.\n",
    "%matplotlib widget"
   ]
  },
  {
   "cell_type": "markdown",
   "metadata": {},
   "source": [
    "In the cells below, place your own imports, global variables, (helper) functions and classes. Feel free to add cells here as you see fit."
   ]
  },
  {
   "cell_type": "code",
   "execution_count": 2,
   "metadata": {},
   "outputs": [],
   "source": [
    "# Please place your own imports here.\n",
    "from PIL import ImageFilter \n",
    "import glob"
   ]
  },
  {
   "cell_type": "code",
   "execution_count": null,
   "metadata": {},
   "outputs": [],
   "source": [
    "# Place any helper functions, global variables and classes here."
   ]
  },
  {
   "cell_type": "markdown",
   "metadata": {},
   "source": [
    "## Task 1.1: Image formats transformation and adding filters\n"
   ]
  },
  {
   "cell_type": "code",
   "execution_count": 106,
   "metadata": {},
   "outputs": [],
   "source": [
    "# Write your function here.\n",
    "\n",
    "# Transcodes images to JPEG format of adjustable quality (for JPEG).\n",
    "def JPEGImageConverter(inputImg: str, outputDir: str, quality: float = 1.0) -> None:\n",
    "    quality_factor = int(quality*100)\n",
    "    img = Image.open(inputImg).convert('RGB')\n",
    "    img.save(outputDir,'JPEG', quality = quality_factor)"
   ]
  },
  {
   "cell_type": "code",
   "execution_count": 107,
   "metadata": {},
   "outputs": [],
   "source": [
    "# Test your function here.\n",
    "JPEGImageConverter(\"images/the_real_firefox_dithered.bmp\", \"./output_dir\" + \".jpeg\")"
   ]
  },
  {
   "cell_type": "code",
   "execution_count": 92,
   "metadata": {},
   "outputs": [],
   "source": [
    "# Add Blur filter\n",
    "def BlurImage(inputImg: str) -> None:\n",
    "    img = Image.open(inputImg)\n",
    "    img.convert('RGB')\n",
    "    img.filter(ImageFilter.BLUR).save(\"images/blurredimg.jpg\")"
   ]
  },
  {
   "cell_type": "code",
   "execution_count": 93,
   "metadata": {},
   "outputs": [],
   "source": [
    "# Test your function here.\n",
    "BlurImage(\"images/b2seaanimals005.jpg\")"
   ]
  },
  {
   "cell_type": "markdown",
   "metadata": {},
   "source": [
    "## Task 1.2:  Extract / Get Image Metadata"
   ]
  },
  {
   "cell_type": "code",
   "execution_count": 273,
   "metadata": {},
   "outputs": [],
   "source": [
    "# Write your function here. \n",
    "\n",
    "# Extracts metadata from an image and places them into a Pandas DataFrame.\n",
    "def ImageMetadataGenerator(inputImage: str) -> pd.DataFrame:\n",
    "    images = glob.glob(inputImage)\n",
    "    df = pd.DataFrame()\n",
    "    for image in images:\n",
    "        with open(image, 'rb') as file:\n",
    "            img = Image.open(file)\n",
    "            \n",
    "            # height, width\n",
    "            width, height = img.size\n",
    "            \n",
    "            # no of channels\n",
    "            channels = len(img.getbands())\n",
    "            \n",
    "            # bits per pixel\n",
    "            mode_to_bpp = {'1':1, 'L':8, 'P':8, 'RGB':24, 'RGBA':32, 'CMYK':32, 'YCbCr':24, 'I':32, 'F':32}\n",
    "            bpp = mode_to_bpp[img.mode]\n",
    "\n",
    "            #colorspace type\n",
    "            colorspace = img.mode\n",
    "\n",
    "            data = np.array(([width, height, 0, channels, bpp, colorspace]))\n",
    "            df2 = pd.DataFrame(data = [data],columns = ['width', 'height', 'no of components', 'no of channel', 'bits per pixel', 'colorspace type'])\n",
    "            df = df.append(df2 ,ignore_index = True)    \n",
    "    \n",
    "    return df\n"
   ]
  },
  {
   "cell_type": "code",
   "execution_count": 274,
   "metadata": {},
   "outputs": [
    {
     "data": {
      "text/html": [
       "<div>\n",
       "<style scoped>\n",
       "    .dataframe tbody tr th:only-of-type {\n",
       "        vertical-align: middle;\n",
       "    }\n",
       "\n",
       "    .dataframe tbody tr th {\n",
       "        vertical-align: top;\n",
       "    }\n",
       "\n",
       "    .dataframe thead th {\n",
       "        text-align: right;\n",
       "    }\n",
       "</style>\n",
       "<table border=\"1\" class=\"dataframe\">\n",
       "  <thead>\n",
       "    <tr style=\"text-align: right;\">\n",
       "      <th></th>\n",
       "      <th>width</th>\n",
       "      <th>height</th>\n",
       "      <th>no of components</th>\n",
       "      <th>no of channel</th>\n",
       "      <th>bits per pixel</th>\n",
       "      <th>colorspace type</th>\n",
       "    </tr>\n",
       "  </thead>\n",
       "  <tbody>\n",
       "    <tr>\n",
       "      <th>0</th>\n",
       "      <td>1600</td>\n",
       "      <td>1200</td>\n",
       "      <td>0</td>\n",
       "      <td>3</td>\n",
       "      <td>24</td>\n",
       "      <td>RGB</td>\n",
       "    </tr>\n",
       "    <tr>\n",
       "      <th>1</th>\n",
       "      <td>500</td>\n",
       "      <td>333</td>\n",
       "      <td>0</td>\n",
       "      <td>1</td>\n",
       "      <td>8</td>\n",
       "      <td>P</td>\n",
       "    </tr>\n",
       "  </tbody>\n",
       "</table>\n",
       "</div>"
      ],
      "text/plain": [
       "  width height no of components no of channel bits per pixel colorspace type\n",
       "0  1600   1200                0             3             24             RGB\n",
       "1   500    333                0             1              8               P"
      ]
     },
     "execution_count": 274,
     "metadata": {},
     "output_type": "execute_result"
    }
   ],
   "source": [
    "# Test your function here.\n",
    "ImageMetadataGenerator(\"images/bla/*\")"
   ]
  },
  {
   "cell_type": "markdown",
   "metadata": {},
   "source": [
    "## Task 1.3: Drawing circles around objects in an image"
   ]
  },
  {
   "cell_type": "code",
   "execution_count": 96,
   "metadata": {},
   "outputs": [],
   "source": [
    "# Write your function here. \n",
    "\n",
    "# Identifies shapes in an images and draws circles around them.\n",
    "def IdentifyObjects(inputImage: str) -> None:\n",
    "    img = cv2.imread(inputImage)\n",
    "    \n",
    "    # converting image into grayscale image\n",
    "    gray = cv2.cvtColor(img, cv2.COLOR_BGR2GRAY)\n",
    "\n",
    "    blur = cv2.GaussianBlur(gray, (5, 5),\n",
    "                       cv2.BORDER_DEFAULT)\n",
    "    ret, thresh = cv2.threshold(blur, 200, 255,\n",
    "                               cv2.THRESH_BINARY_INV)\n",
    "\n",
    "    contours, hierarchies = cv2.findContours(\n",
    "        thresh, cv2.RETR_LIST, cv2.CHAIN_APPROX_SIMPLE)\n",
    "\n",
    "\n",
    "    blank = np.zeros(thresh.shape[:2],\n",
    "                    dtype='uint8')\n",
    "\n",
    "    cv2.drawContours(blank, contours, -1,\n",
    "                    (255, 0, 0), 1)\n",
    "\n",
    "    \n",
    "    \n",
    "    for i in contours:\n",
    "        M = cv2.moments(i)\n",
    "        cv2.fillPoly(gray, pts = i, color=(0,0,0))\n",
    "        if M['m00'] != 0:\n",
    "            cx = int(M['m10']/M['m00'])\n",
    "            cy = int(M['m01']/M['m00'])\n",
    "            cv2.drawContours(gray, [i], -1, (0, 255, 0), 2)\n",
    "            cv2.circle(gray, (cx, cy), 7, (0, 0, 255), -1)\n",
    "            cv2.putText(gray, \"center\", (cx - 20, cy - 20),\n",
    "                    cv2.FONT_HERSHEY_SIMPLEX, 0.5, (0, 0, 0), 2)\n",
    "\n",
    "\n",
    "    cv2.imwrite(\"images/Task1.3/Contours.png\", blank)\n",
    "\n",
    "\n",
    "\n",
    "    cv2.imwrite(\"images/Task1.3/modified.jpg\", gray)"
   ]
  },
  {
   "cell_type": "code",
   "execution_count": 97,
   "metadata": {},
   "outputs": [],
   "source": [
    "# Test your function here.\n",
    "IdentifyObjects('images/Task1.3/partyballoons-1.jpg')"
   ]
  },
  {
   "cell_type": "markdown",
   "metadata": {},
   "source": [
    "## Task 1.4: Duplicate image finder using cosine similarity"
   ]
  },
  {
   "cell_type": "code",
   "execution_count": 70,
   "metadata": {},
   "outputs": [],
   "source": [
    "# Calculates a histogram for one image.\n",
    "def ImageHistogramGenerator(inputImage: str) -> np.array:\n",
    "    pass"
   ]
  },
  {
   "cell_type": "code",
   "execution_count": null,
   "metadata": {},
   "outputs": [],
   "source": [
    "# Test your function here."
   ]
  },
  {
   "cell_type": "code",
   "execution_count": null,
   "metadata": {},
   "outputs": [],
   "source": [
    "# Find duplicate images and return their similarity scores in a dataframe.\n",
    "def FindDuplicateImages(inputDir1 : str, inputDir2: str, similarityThreshold: float = 1.0) -> pd.DataFrame:\n",
    "    pass"
   ]
  },
  {
   "cell_type": "code",
   "execution_count": null,
   "metadata": {},
   "outputs": [],
   "source": [
    "# Test your function here."
   ]
  }
 ],
 "metadata": {
  "kernelspec": {
   "display_name": "Python 3",
   "language": "python",
   "name": "python3"
  },
  "language_info": {
   "codemirror_mode": {
    "name": "ipython",
    "version": 3
   },
   "file_extension": ".py",
   "mimetype": "text/x-python",
   "name": "python",
   "nbconvert_exporter": "python",
   "pygments_lexer": "ipython3",
   "version": "3.8.8"
  }
 },
 "nbformat": 4,
 "nbformat_minor": 4
}
